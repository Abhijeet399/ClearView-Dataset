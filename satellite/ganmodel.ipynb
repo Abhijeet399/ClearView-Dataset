{
 "cells": [
  {
   "cell_type": "code",
   "execution_count": 1,
   "metadata": {},
   "outputs": [],
   "source": [
    "import cv2\n",
    "import tensorflow as tf\n",
    "import numpy as np\n",
    "import matplotlib.pyplot as plt\n",
    "from tensorflow.core.protobuf import config_pb2\n",
    "from tqdm import tqdm\n",
    "import pickle\n",
    "\n",
    "tf.reset_default_graph()"
   ]
  },
  {
   "cell_type": "code",
   "execution_count": 2,
   "metadata": {},
   "outputs": [],
   "source": [
    "img_size = 240\n",
    "batch_size = 62"
   ]
  },
  {
   "cell_type": "code",
   "execution_count": 3,
   "metadata": {},
   "outputs": [],
   "source": [
    "# Placeholders for input data and the targets\n",
    "X_noise = tf.placeholder(tf.float32, (None, img_size, img_size, 3), name='Input')\n",
    "X_noise_bw = tf.placeholder(tf.float32, (None, img_size, img_size, 1), name='Input_bw')\n",
    "X_target = tf.placeholder(tf.float32, (None, img_size, img_size, 3), name='Target')\n",
    "# decoder_input = tf.placeholder(dtype=tf.float32, shape=[1, z_dim], name='Decoder_input')\n",
    "test = tf.placeholder(tf.float32, (img_size,img_size,3), name='test')\n",
    "test_bw = tf.placeholder(tf.float32, (img_size,img_size,1), name='test_bw')"
   ]
  },
  {
   "cell_type": "code",
   "execution_count": 4,
   "metadata": {},
   "outputs": [],
   "source": [
    "def data(i):\n",
    "    training_data=[]\n",
    "    training_data_bw=[]\n",
    "    for j in range((i*62),(62+(i*62))):\n",
    "        image = cv2.imread('D:\\satellitedata\\shufflenoisydata\\%d.jpg' %(j))\n",
    "        new_array=cv2.resize(image,(img_size,img_size))\n",
    "        norm_img = np.zeros((img_size,img_size))\n",
    "        final_img = cv2.normalize(new_array,  norm_img, 0, 255, cv2.NORM_MINMAX)\n",
    "        new_array = final_img\n",
    "        new_array_bw = cv2.cvtColor(new_array, cv2.COLOR_BGR2GRAY)\n",
    "        new_array_bw = cv2.resize(new_array_bw,(img_size,img_size))\n",
    "        new_array_bw = np.reshape(new_array_bw, (img_size,img_size,1))\n",
    "        training_data.append(new_array)\n",
    "        training_data_bw.append(new_array_bw)\n",
    "    return training_data, training_data_bw"
   ]
  },
  {
   "cell_type": "code",
   "execution_count": 5,
   "metadata": {},
   "outputs": [],
   "source": [
    "def label(i):\n",
    "    label = []\n",
    "    for j in range((i*62),(62+(i*62))):\n",
    "        image = cv2.imread('D:\\\\satellitedata\\\\shufflelabel\\\\%d.jpg' %(j))\n",
    "        new_array=cv2.resize(image,(img_size,img_size))\n",
    "        norm_img = np.zeros((img_size,img_size))\n",
    "        final_img = cv2.normalize(new_array, norm_img, 0, 255, cv2.NORM_MINMAX)\n",
    "        new_array = final_img\n",
    "        label.append(new_array)\n",
    "    return label"
   ]
  },
  {
   "cell_type": "code",
   "execution_count": 6,
   "metadata": {},
   "outputs": [],
   "source": [
    "def generator(z, z_bw, reuse=None):\n",
    "    with tf.variable_scope('gen',reuse=reuse):\n",
    "        filters = {1:20,2:20,3:60, 4:60, 5:60, 6:60}\n",
    "        conv1 = tf.layers.conv2d(z, filters[1], (3,3),strides=(2, 2), padding='valid',activation=None, use_bias=True, kernel_initializer='random_uniform', bias_initializer=tf.zeros_initializer())\n",
    "        conv2 = tf.layers.conv2d(z_bw, filters[2], (3,3),strides=(2,2),padding='valid',activation=None,use_bias=True, kernel_initializer='random_uniform', bias_initializer=tf.zeros_initializer())\n",
    "        conv = tf.concat([conv1, conv2], 3)\n",
    "        conv3 = tf.layers.conv2d(conv, filters[3],(5,5), strides=(2, 2), padding='valid', activation=tf.nn.relu,use_bias=True, kernel_initializer='random_uniform', bias_initializer=tf.zeros_initializer())\n",
    "        convD1 = tf.layers.conv2d(conv3,filters[4],(5,5), strides=(1, 1), padding='valid',activation=tf.nn.relu,dilation_rate=(2, 2), use_bias=True, kernel_initializer='random_uniform', bias_initializer=tf.zeros_initializer())\n",
    "        upsample1 = tf.image.resize_nearest_neighbor(convD1, (196,196))\n",
    "        conv4 = tf.layers.conv2d(upsample1, 40, (7,7), padding='same',activation=tf.nn.relu)\n",
    "        upsample2 = tf.image.resize_nearest_neighbor(conv4, (img_size,img_size))\n",
    "        conv5 = tf.layers.conv2d(upsample2, 3, (5,5), padding='same',activation=tf.nn.relu)\n",
    "        return conv5\n",
    "    \n",
    "def discriminator(X,reuse=None):\n",
    "    with tf.variable_scope('dis',reuse=reuse):\n",
    "        conv1 = tf.layers.conv2d(X, 20, (3,3),strides=(2, 2), padding='valid',activation=tf.nn.relu, use_bias=True, kernel_initializer='random_uniform', bias_initializer=tf.zeros_initializer())\n",
    "        conv2 = tf.layers.conv2d(conv1,40, (3,3),strides=(2,2),padding='valid',activation=tf.nn.relu,use_bias=True, kernel_initializer='random_uniform', bias_initializer=tf.zeros_initializer())\n",
    "        flat = tf.contrib.layers.flatten(conv2)\n",
    "        logits=tf.layers.dense(flat,units=1)\n",
    "        output=tf.sigmoid(logits)\n",
    "        \n",
    "        return output,logits"
   ]
  },
  {
   "cell_type": "code",
   "execution_count": 7,
   "metadata": {},
   "outputs": [
    {
     "name": "stdout",
     "output_type": "stream",
     "text": [
      "WARNING:tensorflow:From <ipython-input-6-a67f009533b0>:4: conv2d (from tensorflow.python.layers.convolutional) is deprecated and will be removed in a future version.\n",
      "Instructions for updating:\n",
      "Use `tf.keras.layers.Conv2D` instead.\n",
      "WARNING:tensorflow:From C:\\Users\\VergilCrimson\\Anaconda3\\lib\\site-packages\\tensorflow_core\\python\\keras\\initializers.py:119: calling RandomUniform.__init__ (from tensorflow.python.ops.init_ops) with dtype is deprecated and will be removed in a future version.\n",
      "Instructions for updating:\n",
      "Call initializer instance with the dtype argument instead of passing it to the constructor\n",
      "WARNING:tensorflow:From C:\\Users\\VergilCrimson\\Anaconda3\\lib\\site-packages\\tensorflow_core\\python\\layers\\convolutional.py:424: Layer.apply (from tensorflow.python.keras.engine.base_layer) is deprecated and will be removed in a future version.\n",
      "Instructions for updating:\n",
      "Please use `layer.__call__` method instead.\n",
      "WARNING:tensorflow:\n",
      "The TensorFlow contrib module will not be included in TensorFlow 2.0.\n",
      "For more information, please see:\n",
      "  * https://github.com/tensorflow/community/blob/master/rfcs/20180907-contrib-sunset.md\n",
      "  * https://github.com/tensorflow/addons\n",
      "  * https://github.com/tensorflow/io (for I/O related ops)\n",
      "If you depend on functionality not listed there, please file an issue.\n",
      "\n",
      "WARNING:tensorflow:From C:\\Users\\VergilCrimson\\Anaconda3\\lib\\site-packages\\tensorflow_core\\contrib\\layers\\python\\layers\\layers.py:1634: flatten (from tensorflow.python.layers.core) is deprecated and will be removed in a future version.\n",
      "Instructions for updating:\n",
      "Use keras.layers.flatten instead.\n",
      "WARNING:tensorflow:From <ipython-input-6-a67f009533b0>:20: dense (from tensorflow.python.layers.core) is deprecated and will be removed in a future version.\n",
      "Instructions for updating:\n",
      "Use keras.layers.Dense instead.\n"
     ]
    }
   ],
   "source": [
    "# real_images=tf.placeholder(tf.float32,shape=[None,784])\n",
    "# z=tf.placeholder(tf.float32,shape=[None,100])\n",
    "\n",
    "G=generator(X_noise, X_noise_bw)\n",
    "D_output_real,D_logits_real=discriminator(X_target)\n",
    "D_output_fake,D_logits_fake=discriminator(G,reuse=True)"
   ]
  },
  {
   "cell_type": "code",
   "execution_count": 8,
   "metadata": {},
   "outputs": [
    {
     "name": "stdout",
     "output_type": "stream",
     "text": [
      "WARNING:tensorflow:From C:\\Users\\VergilCrimson\\Anaconda3\\lib\\site-packages\\tensorflow_core\\python\\ops\\nn_impl.py:183: where (from tensorflow.python.ops.array_ops) is deprecated and will be removed in a future version.\n",
      "Instructions for updating:\n",
      "Use tf.where in 2.0, which has the same broadcast rule as np.where\n"
     ]
    }
   ],
   "source": [
    "def loss_func(logits_in,labels_in):\n",
    "    return tf.reduce_mean(tf.nn.sigmoid_cross_entropy_with_logits(logits=logits_in,labels=labels_in))\n",
    "\n",
    "D_real_loss=loss_func(D_logits_real,tf.ones_like(D_logits_real)*0.9) #Smoothing for generalization\n",
    "D_fake_loss=loss_func(D_logits_fake,tf.zeros_like(D_logits_real))\n",
    "D_loss=D_real_loss+D_fake_loss\n",
    "\n",
    "G_loss= loss_func(D_logits_fake,tf.ones_like(D_logits_fake))"
   ]
  },
  {
   "cell_type": "code",
   "execution_count": 9,
   "metadata": {},
   "outputs": [],
   "source": [
    "lr=0.001\n",
    "\n",
    "#Do this when multiple networks interact with each other\n",
    "tvars=tf.trainable_variables()  #returns all variables created(the two variable scopes) and makes trainable true\n",
    "d_vars=[var for var in tvars if 'dis' in var.name]\n",
    "g_vars=[var for var in tvars if 'gen' in var.name]\n",
    "\n",
    "D_trainer=tf.train.AdamOptimizer(lr).minimize(D_loss,var_list=d_vars)\n",
    "G_trainer=tf.train.AdamOptimizer(lr).minimize(G_loss,var_list=g_vars)\n",
    "\n",
    "batch_size=62\n",
    "epochs=100\n",
    "init=tf.global_variables_initializer()"
   ]
  },
  {
   "cell_type": "code",
   "execution_count": 10,
   "metadata": {},
   "outputs": [
    {
     "name": "stderr",
     "output_type": "stream",
     "text": [
      "\r",
      "  0%|                                                                                          | 0/100 [00:00<?, ?it/s]"
     ]
    },
    {
     "name": "stdout",
     "output_type": "stream",
     "text": [
      "on epoch0\n",
      "Cost after epoch 0: 1.321992\n",
      "Cost after epoch 0: 17.343468\n"
     ]
    },
    {
     "name": "stderr",
     "output_type": "stream",
     "text": [
      "\r",
      "  1%|▊                                                                            | 1/100 [27:51<45:58:15, 1671.67s/it]"
     ]
    },
    {
     "name": "stdout",
     "output_type": "stream",
     "text": [
      "on epoch1\n",
      "Cost after epoch 1: 2.705177\n",
      "Cost after epoch 1: 34.904203\n"
     ]
    },
    {
     "name": "stderr",
     "output_type": "stream",
     "text": [
      "\r",
      "  2%|█▌                                                                           | 2/100 [52:59<44:10:06, 1622.52s/it]"
     ]
    },
    {
     "name": "stdout",
     "output_type": "stream",
     "text": [
      "on epoch2\n",
      "Cost after epoch 2: 3.709235\n",
      "Cost after epoch 2: 38.959077\n"
     ]
    },
    {
     "name": "stderr",
     "output_type": "stream",
     "text": [
      "\r",
      "  3%|██▎                                                                        | 3/100 [1:18:18<42:52:37, 1591.32s/it]"
     ]
    },
    {
     "name": "stdout",
     "output_type": "stream",
     "text": [
      "on epoch3\n",
      "Cost after epoch 3: 4.265571\n",
      "Cost after epoch 3: 43.594048\n"
     ]
    },
    {
     "name": "stderr",
     "output_type": "stream",
     "text": [
      "\r",
      "  4%|███                                                                        | 4/100 [1:43:08<41:37:48, 1561.13s/it]"
     ]
    },
    {
     "name": "stdout",
     "output_type": "stream",
     "text": [
      "on epoch4\n",
      "Cost after epoch 4: 4.709015\n",
      "Cost after epoch 4: 48.310111\n"
     ]
    },
    {
     "name": "stderr",
     "output_type": "stream",
     "text": [
      "\r",
      "  5%|███▊                                                                       | 5/100 [2:07:59<40:38:19, 1539.99s/it]"
     ]
    },
    {
     "name": "stdout",
     "output_type": "stream",
     "text": [
      "on epoch5\n",
      "Cost after epoch 5: 5.110566\n",
      "Cost after epoch 5: 53.204016\n"
     ]
    },
    {
     "name": "stderr",
     "output_type": "stream",
     "text": [
      "\r",
      "  6%|████▌                                                                      | 6/100 [2:32:48<39:48:36, 1524.64s/it]"
     ]
    },
    {
     "name": "stdout",
     "output_type": "stream",
     "text": [
      "on epoch6\n",
      "Cost after epoch 6: 5.478515\n",
      "Cost after epoch 6: 58.378474\n"
     ]
    },
    {
     "name": "stderr",
     "output_type": "stream",
     "text": [
      "\r",
      "  7%|█████▎                                                                     | 7/100 [2:57:35<39:05:37, 1513.30s/it]"
     ]
    },
    {
     "name": "stdout",
     "output_type": "stream",
     "text": [
      "on epoch7\n",
      "Cost after epoch 7: 6.212345\n",
      "Cost after epoch 7: 62.275517\n"
     ]
    },
    {
     "name": "stderr",
     "output_type": "stream",
     "text": [
      "\r",
      "  8%|██████                                                                     | 8/100 [3:22:19<38:27:09, 1504.67s/it]"
     ]
    },
    {
     "name": "stdout",
     "output_type": "stream",
     "text": [
      "on epoch8\n",
      "Cost after epoch 8: 7.580161\n",
      "Cost after epoch 8: 62.942686\n"
     ]
    },
    {
     "name": "stderr",
     "output_type": "stream",
     "text": [
      "\r",
      "  9%|██████▊                                                                    | 9/100 [3:47:07<37:54:30, 1499.67s/it]"
     ]
    },
    {
     "name": "stdout",
     "output_type": "stream",
     "text": [
      "on epoch9\n",
      "Cost after epoch 9: 8.914312\n",
      "Cost after epoch 9: 63.720576\n"
     ]
    },
    {
     "name": "stderr",
     "output_type": "stream",
     "text": [
      "\r",
      " 10%|███████▍                                                                  | 10/100 [4:11:53<37:23:26, 1495.63s/it]"
     ]
    },
    {
     "name": "stdout",
     "output_type": "stream",
     "text": [
      "on epoch10\n",
      "Cost after epoch 10: 14.036265\n",
      "Cost after epoch 10: 64.548393\n"
     ]
    },
    {
     "name": "stderr",
     "output_type": "stream",
     "text": [
      "\r",
      " 11%|████████▏                                                                 | 11/100 [4:36:41<36:54:51, 1493.16s/it]"
     ]
    },
    {
     "name": "stdout",
     "output_type": "stream",
     "text": [
      "on epoch11\n",
      "Cost after epoch 11: 18.269954\n",
      "Cost after epoch 11: 65.429968\n"
     ]
    },
    {
     "name": "stderr",
     "output_type": "stream",
     "text": [
      "\r",
      " 12%|████████▉                                                                 | 12/100 [5:01:26<36:26:31, 1490.81s/it]"
     ]
    },
    {
     "name": "stdout",
     "output_type": "stream",
     "text": [
      "on epoch12\n",
      "Cost after epoch 12: 19.507992\n",
      "Cost after epoch 12: 66.376031\n"
     ]
    },
    {
     "name": "stderr",
     "output_type": "stream",
     "text": [
      "\r",
      " 13%|█████████▌                                                                | 13/100 [5:26:10<35:58:34, 1488.68s/it]"
     ]
    },
    {
     "name": "stdout",
     "output_type": "stream",
     "text": [
      "on epoch13\n",
      "Cost after epoch 13: 23.594397\n",
      "Cost after epoch 13: 67.307178\n"
     ]
    },
    {
     "name": "stderr",
     "output_type": "stream",
     "text": [
      "\r",
      " 14%|██████████▎                                                               | 14/100 [5:50:56<35:32:54, 1488.07s/it]"
     ]
    },
    {
     "name": "stdout",
     "output_type": "stream",
     "text": [
      "on epoch14\n",
      "Cost after epoch 14: 92.295572\n",
      "Cost after epoch 14: 68.254603\n"
     ]
    },
    {
     "name": "stderr",
     "output_type": "stream",
     "text": [
      "\r",
      " 15%|███████████                                                               | 15/100 [6:15:43<35:07:17, 1487.50s/it]"
     ]
    },
    {
     "name": "stdout",
     "output_type": "stream",
     "text": [
      "on epoch15\n",
      "Cost after epoch 15: 93.623264\n",
      "Cost after epoch 15: 69.174052\n"
     ]
    },
    {
     "name": "stderr",
     "output_type": "stream",
     "text": [
      "\r",
      " 16%|███████████▊                                                              | 16/100 [6:40:32<34:43:07, 1487.95s/it]"
     ]
    },
    {
     "name": "stdout",
     "output_type": "stream",
     "text": [
      "on epoch16\n",
      "Cost after epoch 16: 94.857187\n",
      "Cost after epoch 16: 70.102576\n"
     ]
    },
    {
     "name": "stderr",
     "output_type": "stream",
     "text": [
      "\r",
      " 17%|████████████▌                                                             | 17/100 [7:05:19<34:17:57, 1487.68s/it]"
     ]
    },
    {
     "name": "stdout",
     "output_type": "stream",
     "text": [
      "on epoch17\n",
      "Cost after epoch 17: 96.137198\n",
      "Cost after epoch 17: 71.133124\n"
     ]
    },
    {
     "name": "stderr",
     "output_type": "stream",
     "text": [
      "\r",
      " 18%|█████████████▎                                                            | 18/100 [7:30:04<33:52:25, 1487.14s/it]"
     ]
    },
    {
     "name": "stdout",
     "output_type": "stream",
     "text": [
      "on epoch18\n",
      "Cost after epoch 18: 104.481066\n",
      "Cost after epoch 18: 72.056395\n"
     ]
    },
    {
     "name": "stderr",
     "output_type": "stream",
     "text": [
      "\r",
      " 19%|██████████████                                                            | 19/100 [7:54:53<33:28:17, 1487.62s/it]"
     ]
    },
    {
     "name": "stdout",
     "output_type": "stream",
     "text": [
      "on epoch19\n",
      "Cost after epoch 19: 105.789761\n",
      "Cost after epoch 19: 72.929618\n"
     ]
    },
    {
     "name": "stderr",
     "output_type": "stream",
     "text": [
      "\r",
      " 20%|██████████████▊                                                           | 20/100 [8:19:40<33:03:20, 1487.51s/it]"
     ]
    },
    {
     "name": "stdout",
     "output_type": "stream",
     "text": [
      "on epoch20\n",
      "Cost after epoch 20: 106.918524\n",
      "Cost after epoch 20: 73.986653\n"
     ]
    },
    {
     "name": "stderr",
     "output_type": "stream",
     "text": [
      "\r",
      " 21%|███████████████▌                                                          | 21/100 [8:44:29<32:39:05, 1487.91s/it]"
     ]
    },
    {
     "name": "stdout",
     "output_type": "stream",
     "text": [
      "on epoch21\n",
      "Cost after epoch 21: 123.528514\n",
      "Cost after epoch 21: 74.987151\n"
     ]
    },
    {
     "name": "stderr",
     "output_type": "stream",
     "text": [
      "\r",
      " 22%|████████████████▎                                                         | 22/100 [9:09:18<32:14:31, 1488.10s/it]"
     ]
    },
    {
     "name": "stdout",
     "output_type": "stream",
     "text": [
      "on epoch22\n",
      "Cost after epoch 22: 124.662131\n",
      "Cost after epoch 22: 76.025329\n"
     ]
    },
    {
     "name": "stderr",
     "output_type": "stream",
     "text": [
      "\r",
      " 23%|█████████████████                                                         | 23/100 [9:34:05<31:49:14, 1487.72s/it]"
     ]
    },
    {
     "name": "stdout",
     "output_type": "stream",
     "text": [
      "on epoch23\n",
      "Cost after epoch 23: 125.992067\n",
      "Cost after epoch 23: 77.053412\n"
     ]
    },
    {
     "name": "stderr",
     "output_type": "stream",
     "text": [
      "\r",
      " 24%|█████████████████▊                                                        | 24/100 [9:58:54<31:24:52, 1488.06s/it]"
     ]
    },
    {
     "name": "stdout",
     "output_type": "stream",
     "text": [
      "on epoch24\n",
      "Cost after epoch 24: 127.325146\n",
      "Cost after epoch 24: 77.964254\n"
     ]
    },
    {
     "name": "stderr",
     "output_type": "stream",
     "text": [
      "\r",
      " 25%|██████████████████▎                                                      | 25/100 [10:23:44<31:00:56, 1488.75s/it]"
     ]
    },
    {
     "name": "stdout",
     "output_type": "stream",
     "text": [
      "on epoch25\n",
      "Cost after epoch 25: 128.655071\n",
      "Cost after epoch 25: 78.831356\n"
     ]
    },
    {
     "name": "stderr",
     "output_type": "stream",
     "text": [
      "\r",
      " 26%|██████████████████▉                                                      | 26/100 [10:48:38<30:38:06, 1490.36s/it]"
     ]
    },
    {
     "name": "stdout",
     "output_type": "stream",
     "text": [
      "on epoch26\n",
      "Cost after epoch 26: 130.044654\n",
      "Cost after epoch 26: 80.052762\n"
     ]
    },
    {
     "name": "stderr",
     "output_type": "stream",
     "text": [
      "\r",
      " 27%|███████████████████▋                                                     | 27/100 [11:13:25<30:12:11, 1489.47s/it]"
     ]
    },
    {
     "name": "stdout",
     "output_type": "stream",
     "text": [
      "on epoch27\n",
      "Cost after epoch 27: 131.388694\n",
      "Cost after epoch 27: 80.881969\n"
     ]
    },
    {
     "name": "stderr",
     "output_type": "stream",
     "text": [
      "\r",
      " 28%|████████████████████▍                                                    | 28/100 [11:38:12<29:46:26, 1488.70s/it]"
     ]
    },
    {
     "name": "stdout",
     "output_type": "stream",
     "text": [
      "on epoch28\n",
      "Cost after epoch 28: 132.719049\n",
      "Cost after epoch 28: 81.728070\n"
     ]
    },
    {
     "name": "stderr",
     "output_type": "stream",
     "text": [
      "\r",
      " 29%|█████████████████████▏                                                   | 29/100 [12:03:08<29:24:10, 1490.85s/it]"
     ]
    },
    {
     "name": "stdout",
     "output_type": "stream",
     "text": [
      "on epoch29\n",
      "Cost after epoch 29: 134.048448\n",
      "Cost after epoch 29: 82.579039\n"
     ]
    },
    {
     "name": "stderr",
     "output_type": "stream",
     "text": [
      "\r",
      " 30%|█████████████████████▉                                                   | 30/100 [12:27:59<28:59:08, 1490.70s/it]"
     ]
    },
    {
     "name": "stdout",
     "output_type": "stream",
     "text": [
      "on epoch30\n",
      "Cost after epoch 30: 137.244419\n",
      "Cost after epoch 30: 83.430063\n"
     ]
    },
    {
     "name": "stderr",
     "output_type": "stream",
     "text": [
      "\r",
      " 31%|██████████████████████▋                                                  | 31/100 [12:52:52<28:35:19, 1491.59s/it]"
     ]
    },
    {
     "name": "stdout",
     "output_type": "stream",
     "text": [
      "on epoch31\n",
      "Cost after epoch 31: 138.573882\n",
      "Cost after epoch 31: 84.284092\n"
     ]
    },
    {
     "name": "stderr",
     "output_type": "stream",
     "text": [
      "\r",
      " 32%|███████████████████████▎                                                 | 32/100 [13:17:58<28:15:18, 1495.86s/it]"
     ]
    },
    {
     "name": "stdout",
     "output_type": "stream",
     "text": [
      "on epoch32\n",
      "Cost after epoch 32: 139.902416\n",
      "Cost after epoch 32: 85.137110\n"
     ]
    },
    {
     "name": "stderr",
     "output_type": "stream",
     "text": [
      "\r",
      " 33%|████████████████████████                                                 | 33/100 [13:43:33<28:03:22, 1507.51s/it]"
     ]
    },
    {
     "ename": "KeyboardInterrupt",
     "evalue": "",
     "output_type": "error",
     "traceback": [
      "\u001b[1;31m---------------------------------------------------------------------------\u001b[0m",
      "\u001b[1;31mKeyboardInterrupt\u001b[0m                         Traceback (most recent call last)",
      "\u001b[1;32m<ipython-input-10-1eeb7bdb3796>\u001b[0m in \u001b[0;36m<module>\u001b[1;34m\u001b[0m\n\u001b[0;32m     17\u001b[0m         \u001b[0mnum_batches\u001b[0m\u001b[1;33m=\u001b[0m\u001b[1;36m340\u001b[0m\u001b[1;33m\u001b[0m\u001b[1;33m\u001b[0m\u001b[0m\n\u001b[0;32m     18\u001b[0m         \u001b[1;32mfor\u001b[0m \u001b[0mi\u001b[0m \u001b[1;32min\u001b[0m \u001b[0mrange\u001b[0m\u001b[1;33m(\u001b[0m\u001b[0mnum_batches\u001b[0m\u001b[1;33m)\u001b[0m\u001b[1;33m:\u001b[0m\u001b[1;33m\u001b[0m\u001b[1;33m\u001b[0m\u001b[0m\n\u001b[1;32m---> 19\u001b[1;33m             \u001b[0mX\u001b[0m\u001b[1;33m,\u001b[0m \u001b[0mX_bw\u001b[0m \u001b[1;33m=\u001b[0m \u001b[0mdata\u001b[0m\u001b[1;33m(\u001b[0m\u001b[0mi\u001b[0m\u001b[1;33m)\u001b[0m\u001b[1;33m\u001b[0m\u001b[1;33m\u001b[0m\u001b[0m\n\u001b[0m\u001b[0;32m     20\u001b[0m             \u001b[0mY\u001b[0m \u001b[1;33m=\u001b[0m \u001b[0mlabel\u001b[0m\u001b[1;33m(\u001b[0m\u001b[0mi\u001b[0m\u001b[1;33m)\u001b[0m\u001b[1;33m\u001b[0m\u001b[1;33m\u001b[0m\u001b[0m\n\u001b[0;32m     21\u001b[0m             \u001b[0m_\u001b[0m\u001b[1;33m,\u001b[0m \u001b[0mtemp_d_loss\u001b[0m \u001b[1;33m=\u001b[0m \u001b[0msess\u001b[0m\u001b[1;33m.\u001b[0m\u001b[0mrun\u001b[0m\u001b[1;33m(\u001b[0m\u001b[1;33m[\u001b[0m\u001b[0mD_trainer\u001b[0m\u001b[1;33m,\u001b[0m\u001b[0mD_loss\u001b[0m\u001b[1;33m]\u001b[0m\u001b[1;33m,\u001b[0m \u001b[0mfeed_dict\u001b[0m\u001b[1;33m=\u001b[0m\u001b[1;33m{\u001b[0m\u001b[0mX_target\u001b[0m\u001b[1;33m:\u001b[0m\u001b[0mY\u001b[0m\u001b[1;33m,\u001b[0m\u001b[0mX_noise\u001b[0m\u001b[1;33m:\u001b[0m\u001b[0mX\u001b[0m\u001b[1;33m,\u001b[0m \u001b[0mX_noise_bw\u001b[0m\u001b[1;33m:\u001b[0m\u001b[0mX_bw\u001b[0m\u001b[1;33m}\u001b[0m\u001b[1;33m)\u001b[0m\u001b[1;33m\u001b[0m\u001b[1;33m\u001b[0m\u001b[0m\n",
      "\u001b[1;32m<ipython-input-4-d4feec6579cf>\u001b[0m in \u001b[0;36mdata\u001b[1;34m(i)\u001b[0m\n\u001b[0;32m      3\u001b[0m     \u001b[0mtraining_data_bw\u001b[0m\u001b[1;33m=\u001b[0m\u001b[1;33m[\u001b[0m\u001b[1;33m]\u001b[0m\u001b[1;33m\u001b[0m\u001b[1;33m\u001b[0m\u001b[0m\n\u001b[0;32m      4\u001b[0m     \u001b[1;32mfor\u001b[0m \u001b[0mj\u001b[0m \u001b[1;32min\u001b[0m \u001b[0mrange\u001b[0m\u001b[1;33m(\u001b[0m\u001b[1;33m(\u001b[0m\u001b[0mi\u001b[0m\u001b[1;33m*\u001b[0m\u001b[1;36m62\u001b[0m\u001b[1;33m)\u001b[0m\u001b[1;33m,\u001b[0m\u001b[1;33m(\u001b[0m\u001b[1;36m62\u001b[0m\u001b[1;33m+\u001b[0m\u001b[1;33m(\u001b[0m\u001b[0mi\u001b[0m\u001b[1;33m*\u001b[0m\u001b[1;36m62\u001b[0m\u001b[1;33m)\u001b[0m\u001b[1;33m)\u001b[0m\u001b[1;33m)\u001b[0m\u001b[1;33m:\u001b[0m\u001b[1;33m\u001b[0m\u001b[1;33m\u001b[0m\u001b[0m\n\u001b[1;32m----> 5\u001b[1;33m         \u001b[0mimage\u001b[0m \u001b[1;33m=\u001b[0m \u001b[0mcv2\u001b[0m\u001b[1;33m.\u001b[0m\u001b[0mimread\u001b[0m\u001b[1;33m(\u001b[0m\u001b[1;34m'D:\\satellitedata\\shufflenoisydata\\%d.jpg'\u001b[0m \u001b[1;33m%\u001b[0m\u001b[1;33m(\u001b[0m\u001b[0mj\u001b[0m\u001b[1;33m)\u001b[0m\u001b[1;33m)\u001b[0m\u001b[1;33m\u001b[0m\u001b[1;33m\u001b[0m\u001b[0m\n\u001b[0m\u001b[0;32m      6\u001b[0m         \u001b[0mnew_array\u001b[0m\u001b[1;33m=\u001b[0m\u001b[0mcv2\u001b[0m\u001b[1;33m.\u001b[0m\u001b[0mresize\u001b[0m\u001b[1;33m(\u001b[0m\u001b[0mimage\u001b[0m\u001b[1;33m,\u001b[0m\u001b[1;33m(\u001b[0m\u001b[0mimg_size\u001b[0m\u001b[1;33m,\u001b[0m\u001b[0mimg_size\u001b[0m\u001b[1;33m)\u001b[0m\u001b[1;33m)\u001b[0m\u001b[1;33m\u001b[0m\u001b[1;33m\u001b[0m\u001b[0m\n\u001b[0;32m      7\u001b[0m         \u001b[0mnorm_img\u001b[0m \u001b[1;33m=\u001b[0m \u001b[0mnp\u001b[0m\u001b[1;33m.\u001b[0m\u001b[0mzeros\u001b[0m\u001b[1;33m(\u001b[0m\u001b[1;33m(\u001b[0m\u001b[0mimg_size\u001b[0m\u001b[1;33m,\u001b[0m\u001b[0mimg_size\u001b[0m\u001b[1;33m)\u001b[0m\u001b[1;33m)\u001b[0m\u001b[1;33m\u001b[0m\u001b[1;33m\u001b[0m\u001b[0m\n",
      "\u001b[1;31mKeyboardInterrupt\u001b[0m: "
     ]
    }
   ],
   "source": [
    "samples=[] #generator examples\n",
    "test = cv2.imread('test.png')\n",
    "test = cv2.resize(test,(img_size,img_size))\n",
    "norm_img = np.zeros((img_size,img_size))\n",
    "test = cv2.normalize(test, norm_img, 0, 255, cv2.NORM_MINMAX)\n",
    "\n",
    "test_bw = cv2.cvtColor(test, cv2.COLOR_BGR2GRAY )\n",
    "test_bw = cv2.resize(test_bw,(img_size,img_size))\n",
    "test_bw = np.reshape(test_bw, (img_size,img_size,1))\n",
    "minibatch_Dloss = 0\n",
    "minibatch_Gloss = 0\n",
    "Gcost=[]\n",
    "Dcost =[]\n",
    "with tf.Session() as sess:\n",
    "    sess.run(init)\n",
    "    for epoch in tqdm(range(epochs)):\n",
    "        num_batches=340\n",
    "        for i in range(num_batches):\n",
    "            X, X_bw = data(i)\n",
    "            Y = label(i)\n",
    "            _, temp_d_loss = sess.run([D_trainer,D_loss], feed_dict={X_target:Y,X_noise:X, X_noise_bw:X_bw})\n",
    "            _, temp_g_loss = sess.run([G_trainer,G_loss], feed_dict={X_noise:X, X_noise_bw:X_bw})\n",
    "\n",
    "            minibatch_Dloss += temp_d_loss / num_batches\n",
    "            minibatch_Gloss += temp_g_loss / num_batches\n",
    "        \n",
    "            \n",
    "        print(\"on epoch{}\".format(epoch))\n",
    "        # Print the cost every epoch\n",
    "        print (\"Cost after epoch %i: %f\" % (epoch, minibatch_Dloss))\n",
    "        print (\"Cost after epoch %i: %f\" % (epoch, minibatch_Gloss))\n",
    "        Gcost.append(minibatch_Gloss)\n",
    "        Dcost.append(minibatch_Dloss)\n",
    "        \n",
    "#         gen_sample=sess.run(generator(test, test_bw ,reuse=True),feed_dict={test:test, test_bw:test_bw})\n",
    "#         samples.append(gen_sample)\n",
    "        \n",
    "# plt.imshow(samples[0].reshape(img_size,img_size))"
   ]
  },
  {
   "cell_type": "code",
   "execution_count": null,
   "metadata": {},
   "outputs": [],
   "source": [
    "# plt.imshow(samples[99].reshape(img_size,img_size))"
   ]
  },
  {
   "cell_type": "code",
   "execution_count": 11,
   "metadata": {},
   "outputs": [
    {
     "ename": "NameError",
     "evalue": "name 'G_cost' is not defined",
     "output_type": "error",
     "traceback": [
      "\u001b[1;31m---------------------------------------------------------------------------\u001b[0m",
      "\u001b[1;31mNameError\u001b[0m                                 Traceback (most recent call last)",
      "\u001b[1;32m<ipython-input-11-4b8265a36f9d>\u001b[0m in \u001b[0;36m<module>\u001b[1;34m\u001b[0m\n\u001b[1;32m----> 1\u001b[1;33m \u001b[0mplt\u001b[0m\u001b[1;33m.\u001b[0m\u001b[0mplot\u001b[0m\u001b[1;33m(\u001b[0m\u001b[0mG_cost\u001b[0m\u001b[1;33m)\u001b[0m\u001b[1;33m\u001b[0m\u001b[1;33m\u001b[0m\u001b[0m\n\u001b[0m",
      "\u001b[1;31mNameError\u001b[0m: name 'G_cost' is not defined"
     ]
    }
   ],
   "source": [
    "plt.plot(G_cost)"
   ]
  },
  {
   "cell_type": "code",
   "execution_count": null,
   "metadata": {},
   "outputs": [],
   "source": [
    "plt.plot(D_cost)"
   ]
  }
 ],
 "metadata": {
  "kernelspec": {
   "display_name": "Python 3",
   "language": "python",
   "name": "python3"
  },
  "language_info": {
   "codemirror_mode": {
    "name": "ipython",
    "version": 3
   },
   "file_extension": ".py",
   "mimetype": "text/x-python",
   "name": "python",
   "nbconvert_exporter": "python",
   "pygments_lexer": "ipython3",
   "version": "3.7.4"
  }
 },
 "nbformat": 4,
 "nbformat_minor": 2
}
