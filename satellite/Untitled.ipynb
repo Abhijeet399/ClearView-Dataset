{
 "cells": [
  {
   "cell_type": "code",
   "execution_count": 37,
   "metadata": {},
   "outputs": [],
   "source": [
    "import cv2\n",
    "import numpy as np\n",
    "from random import randint"
   ]
  },
  {
   "cell_type": "code",
   "execution_count": 38,
   "metadata": {},
   "outputs": [],
   "source": [
    "def crop(diff, d):\n",
    "    a = randint(0,256)\n",
    "    b = randint(0,256)\n",
    "    c = randint(0,256)\n",
    "    d = randint(0,256)\n",
    "    diff1 = b-a\n",
    "    diff2 = d-c\n",
    "    while(d<diff1<diff or d<diff2<diff):\n",
    "        a = randint(0,256)\n",
    "        b = randint(0,256)\n",
    "        c = randint(0,256)\n",
    "        d = randint(0,256)\n",
    "        diff1 = b-a\n",
    "        diff2 = d-c        \n",
    "    \n",
    "    return a,b,c,d"
   ]
  },
  {
   "cell_type": "code",
   "execution_count": 39,
   "metadata": {},
   "outputs": [
    {
     "name": "stdout",
     "output_type": "stream",
     "text": [
      "218 149 174 58\n"
     ]
    }
   ],
   "source": [
    "image = cv2.imread(\"D:\\\\Temp\\\\data_256\\\\h\\\\highway\\\\00000003.jpg\")\n",
    "# image1 = cv2.cvtColor(image, cv2.COLOR_BGR2GRAY)\n",
    "\n",
    "a,b,c,d = crop(150,100)\n",
    "print(a,b,c,d)\n",
    "\n",
    "image[a:b,d:c] = 255\n",
    "\n",
    "cv2.imshow('sdkdm', image)\n",
    "cv2.waitKey(0)\n",
    "cv2.destroyAllWindows()"
   ]
  },
  {
   "cell_type": "code",
   "execution_count": null,
   "metadata": {},
   "outputs": [],
   "source": [
    "image = cv2.imread(\"D:\\\\Temp\\\\data_256\\\\h\\\\highway\\\\00000003.jpg\")\n",
    "temp = randint(50,70)\n",
    "temp2 = randint(50,150)\n",
    "for i in range(3):\n",
    "\tfor j in range(temp):\n",
    "\t\tfor k in range(temp):\n",
    "\t\t\timage[temp2+k][temp2+j][i] = 255\n",
    "cv2.imshow('sdkdm', image)\n",
    "cv2.waitKey(0)\n",
    "cv2.destroyAllWindows()\n"
   ]
  },
  {
   "cell_type": "code",
   "execution_count": null,
   "metadata": {},
   "outputs": [],
   "source": []
  },
  {
   "cell_type": "code",
   "execution_count": null,
   "metadata": {},
   "outputs": [],
   "source": []
  },
  {
   "cell_type": "code",
   "execution_count": null,
   "metadata": {},
   "outputs": [],
   "source": []
  }
 ],
 "metadata": {
  "kernelspec": {
   "display_name": "Python 3",
   "language": "python",
   "name": "python3"
  },
  "language_info": {
   "codemirror_mode": {
    "name": "ipython",
    "version": 3
   },
   "file_extension": ".py",
   "mimetype": "text/x-python",
   "name": "python",
   "nbconvert_exporter": "python",
   "pygments_lexer": "ipython3",
   "version": "3.7.4"
  }
 },
 "nbformat": 4,
 "nbformat_minor": 2
}
